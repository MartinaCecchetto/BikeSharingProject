{
  "nbformat": 4,
  "nbformat_minor": 0,
  "metadata": {
    "kernelspec": {
      "display_name": "Python 3",
      "language": "python",
      "name": "python3"
    },
    "language_info": {
      "codemirror_mode": {
        "name": "ipython",
        "version": 3
      },
      "file_extension": ".py",
      "mimetype": "text/x-python",
      "name": "python",
      "nbconvert_exporter": "python",
      "pygments_lexer": "ipython3",
      "version": "3.7.3"
    },
    "colab": {
      "name": "Bikesharing_consumer.ipynb",
      "provenance": [],
      "collapsed_sections": [],
      "include_colab_link": true
    }
  },
  "cells": [
    {
      "cell_type": "markdown",
      "metadata": {
        "id": "view-in-github",
        "colab_type": "text"
      },
      "source": [
        "<a href=\"https://colab.research.google.com/github/MartinaCecchetto/DMDV/blob/main/Code/Bikesharing_consumer.ipynb\" target=\"_parent\"><img src=\"https://colab.research.google.com/assets/colab-badge.svg\" alt=\"Open In Colab\"/></a>"
      ]
    },
    {
      "cell_type": "code",
      "metadata": {
        "id": "EHVGVaCjT94_"
      },
      "source": [
        "#Librerie utilizzate\n",
        "from kafka import KafkaConsumer\n",
        "import json\n",
        "from pprint import pprint\n",
        "from kafka import KafkaConsumer\n",
        "from pymongo import MongoClient\n",
        "\n",
        "\n",
        "#Creazione del consumer\n",
        "# We join (create) a consumer group for dynamic partition assignment and offset commits.\n",
        "# If we run multile consumers with the same group_id only one of them will\n",
        "# consume the message.\n",
        "# Also, we pass a lambda function as value deserializer.\n",
        "# This means the message we receive will be interpreted as a JSON value\n",
        "# using the lambda function.\n",
        "consumer = KafkaConsumer(\n",
        "  \"bici\",  \n",
        "  bootstrap_servers=[\"kafka:9092\"],\n",
        "  auto_offset_reset=\"earliest\",\n",
        "  enable_auto_commit=True,\n",
        "  value_deserializer=lambda v: json.loads(v.decode(\"utf-8\")))\n",
        "\n",
        "# We subscribe to the \"bike_journeys\" topic\n",
        "consumer.subscribe([\"bike_journeys\"])\n",
        "\n",
        "#Collegamento al database distribuito \"bikeshardingDB\"\n",
        "client= MongoClient('localhost', 27027)\n",
        "collection=client.bikesharingDB.shardedCollection\n",
        "\n",
        "#Visualizzazione dello stream e inserimento dei dati su mongoDB\n",
        "for message in consumer:\n",
        "   message=message.value\n",
        "   collection.insert_one(message)\n",
        "   pprint(message) \n",
        "# NOW YOU HAVE TO STOP THE CELL IF YOU ARE USING THE NOTEBOOK OR PRESS CTRL + C\n",
        "# TO STOP THE CONSUMER"
      ],
      "execution_count": null,
      "outputs": []
    },
    {
      "cell_type": "code",
      "metadata": {
        "id": "dXFXfb27T95D"
      },
      "source": [
        ""
      ],
      "execution_count": null,
      "outputs": []
    }
  ]
}