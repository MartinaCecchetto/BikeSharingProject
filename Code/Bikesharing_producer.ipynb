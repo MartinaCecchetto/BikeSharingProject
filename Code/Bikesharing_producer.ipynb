{
  "nbformat": 4,
  "nbformat_minor": 0,
  "metadata": {
    "kernelspec": {
      "display_name": "Python 3",
      "language": "python",
      "name": "python3"
    },
    "language_info": {
      "codemirror_mode": {
        "name": "ipython",
        "version": 3
      },
      "file_extension": ".py",
      "mimetype": "text/x-python",
      "name": "python",
      "nbconvert_exporter": "python",
      "pygments_lexer": "ipython3",
      "version": "3.7.3"
    },
    "colab": {
      "name": "Bikesharing_producer.ipynb",
      "provenance": [],
      "include_colab_link": true
    }
  },
  "cells": [
    {
      "cell_type": "markdown",
      "metadata": {
        "id": "view-in-github",
        "colab_type": "text"
      },
      "source": [
        "<a href=\"https://colab.research.google.com/github/MartinaCecchetto/DMDV/blob/main/Code/Bikesharing_producer.ipynb\" target=\"_parent\"><img src=\"https://colab.research.google.com/assets/colab-badge.svg\" alt=\"Open In Colab\"/></a>"
      ]
    },
    {
      "cell_type": "code",
      "metadata": {
        "id": "7L1jFcOQfcxg"
      },
      "source": [
        "#Librerie utilizzate\n",
        "import requests\n",
        "import urllib.request\n",
        "import time\n",
        "from bs4 import BeautifulSoup\n",
        "import selenium\n",
        "from selenium import webdriver\n",
        "import pandas as pd\n",
        "import re\n",
        "import datetime\n",
        "from dateutil.parser import parse\n",
        "from kafka import KafkaProducer\n",
        "import json\n",
        "import time\n",
        "import pandas as pd\n",
        "import random\n",
        "#Creazione di un KafraProducer\n",
        "# We pass a lambda function as value serializer.\n",
        "# This means the message we pass as value of the send method will be converted to JSON\n",
        "# using the lambda function.\n",
        "producer = KafkaProducer(\n",
        "  bootstrap_servers=[\"kafka:9092\"],\n",
        "  value_serializer=lambda v: json.dumps(v).encode(\"utf-8\"))"
      ],
      "execution_count": null,
      "outputs": []
    },
    {
      "cell_type": "code",
      "metadata": {
        "id": "yhMijNMgfcxn"
      },
      "source": [
        "#Driver utilizzato per lo scraping della pagina 'http://cycling.data.tfl.gov.uk/'\n",
        "chromedriver = ('/Users/martinacecchetto/Desktop/Università/Data_Management/Progetto/codice finale/chromedriver')"
      ],
      "execution_count": null,
      "outputs": []
    },
    {
      "cell_type": "code",
      "metadata": {
        "id": "YqhMniZsfcxo"
      },
      "source": [
        "#Scraping con Selenium e successivamente Beautiful Soup per cercare i file a noi utili\n",
        "url='http://cycling.data.tfl.gov.uk/'\n",
        "driver = webdriver.Chrome(executable_path=chromedriver)\n",
        "driver.get(url)\n",
        "time.sleep(5)\n",
        "innerHTML = driver.execute_script(\"return document.body.innerHTML\")\n",
        "driver.quit()\n",
        "soup = BeautifulSoup(innerHTML, \"html.parser\")\n",
        "trs=soup.find_all('tr',{'data-level':'3'})\n",
        "d=[]\n",
        "t=[]\n",
        "dim=[]\n",
        "for tr in trs:\n",
        "    if tr.find('a', href=re.compile('usage-stats' and 'Extract')):\n",
        "        link=tr.find('a', href=re.compile('usage-stats' and 'Extract'))\n",
        "        d.append(link.get('href'))\n",
        "        t.append(parse(tr.find_all('td')[1].text))\n",
        "        dim.append(float(tr.find_all('td')[2].text.split()[0]))\n",
        "files=pd.DataFrame({'file':d,'data_modified':t, 'dim_MB':dim})\n",
        "files=files.sort_values('data_modified').reset_index(drop=True)\n",
        "files\n",
        "\n"
      ],
      "execution_count": null,
      "outputs": []
    },
    {
      "cell_type": "code",
      "metadata": {
        "scrolled": true,
        "id": "K1jBwjuLfcxo"
      },
      "source": [
        "#Simulazione della velocità del periodo 29 Luglio 2020-4 Agosto 2020\n",
        "last_update=pd.read_csv(list(files[-1:]['file'])[0],sep=',')"
      ],
      "execution_count": null,
      "outputs": []
    },
    {
      "cell_type": "code",
      "metadata": {
        "id": "foX_8t2rfcxp"
      },
      "source": [
        "#Creazione del topic \"bike_journeys\"\n",
        "for i in range(len(last_update)):\n",
        "  producer.send(topic=\"bike_journeys\", value={'Rental Id': int(last_update.iloc[i,0]),\n",
        "                                              'Duration': int(last_update.iloc[i,1]),\n",
        "                                              'Bike Id': int(last_update.iloc[i,2]),\n",
        "                                              'End Date': last_update.iloc[i,3],\n",
        "                                              'EndStation Id': int(last_update.iloc[i,4]),\n",
        "                                              'EndStation Name': last_update.iloc[i,5],\n",
        "                                              'Start Date': last_update.iloc[i,6],\n",
        "                                              'StartStation Id': int(last_update.iloc[i,7]),\n",
        "                                              'StartStation Name': last_update.iloc[i,8]})\n",
        "  time.sleep(random.randint(1,10))"
      ],
      "execution_count": null,
      "outputs": []
    },
    {
      "cell_type": "code",
      "metadata": {
        "id": "aR908oxKfcxp"
      },
      "source": [
        ""
      ],
      "execution_count": null,
      "outputs": []
    }
  ]
}