{
  "nbformat": 4,
  "nbformat_minor": 0,
  "metadata": {
    "kernelspec": {
      "display_name": "Python 3",
      "language": "python",
      "name": "python3"
    },
    "language_info": {
      "codemirror_mode": {
        "name": "ipython",
        "version": 3
      },
      "file_extension": ".py",
      "mimetype": "text/x-python",
      "name": "python",
      "nbconvert_exporter": "python",
      "pygments_lexer": "ipython3",
      "version": "3.7.3"
    },
    "colab": {
      "name": "MongoDB_Insert.ipynb",
      "provenance": [],
      "include_colab_link": true
    }
  },
  "cells": [
    {
      "cell_type": "markdown",
      "metadata": {
        "id": "view-in-github",
        "colab_type": "text"
      },
      "source": [
        "<a href=\"https://colab.research.google.com/github/MartinaCecchetto/DMDV/blob/main/Code/MongoDB_Insert.ipynb\" target=\"_parent\"><img src=\"https://colab.research.google.com/assets/colab-badge.svg\" alt=\"Open In Colab\"/></a>"
      ]
    },
    {
      "cell_type": "code",
      "metadata": {
        "id": "FYShzpT_fmKb"
      },
      "source": [
        "#Librerie utilizzate\n",
        "import requests\n",
        "import urllib.request\n",
        "import time\n",
        "from bs4 import BeautifulSoup\n",
        "import selenium\n",
        "from selenium import webdriver\n",
        "import pandas as pd\n",
        "import re\n",
        "import datetime\n",
        "from dateutil.parser import parse\n",
        "import pymongo\n",
        "from pymongo import MongoClient"
      ],
      "execution_count": null,
      "outputs": []
    },
    {
      "cell_type": "code",
      "metadata": {
        "id": "R6pIXucwfmKi"
      },
      "source": [
        "#Driver utilizzato per lo scraping della pagina 'http://cycling.data.tfl.gov.uk/'\n",
        "chromedriver = ('/Users/martinacecchetto/Desktop/Università/Data_Management/Progetto/chromedriver')"
      ],
      "execution_count": null,
      "outputs": []
    },
    {
      "cell_type": "code",
      "metadata": {
        "id": "cSv-KUgLfmKi"
      },
      "source": [
        "#Scraping con Selenium e successivamente Beautiful Soup per cercare i file a noi utili\n",
        "url='http://cycling.data.tfl.gov.uk/'\n",
        "driver = webdriver.Chrome(executable_path=chromedriver)\n",
        "driver.get(url)\n",
        "time.sleep(5)\n",
        "innerHTML = driver.execute_script(\"return document.body.innerHTML\")\n",
        "driver.quit()\n",
        "soup = BeautifulSoup(innerHTML, \"html.parser\")\n",
        "trs=soup.find_all('tr',{'data-level':'3'})\n",
        "d=[]\n",
        "t=[]\n",
        "dim=[]\n",
        "for tr in trs:\n",
        "    if tr.find('a', href=re.compile('usage-stats' and 'Extract')):\n",
        "        link=tr.find('a', href=re.compile('usage-stats' and 'Extract'))\n",
        "        d.append(link.get('href'))\n",
        "        t.append(parse(tr.find_all('td')[1].text))\n",
        "        dim.append(float(tr.find_all('td')[2].text.split()[0]))\n",
        "d=[]\n",
        "t=[]\n",
        "dim=[]\n",
        "for tr in trs:\n",
        "    if tr.find('a', href=re.compile('usage-stats' and 'Extract')):\n",
        "        link=tr.find('a', href=re.compile('usage-stats' and 'Extract'))\n",
        "        d.append(link.get('href'))\n",
        "        t.append(parse(tr.find_all('td')[1].text))\n",
        "        dim.append(float(tr.find_all('td')[2].text.split()[0]))\n",
        "files=pd.DataFrame({'file':d,'data_modified':t, 'dim_MB':dim})\n",
        "files=files.sort_values('data_modified').reset_index(drop=True)\n"
      ],
      "execution_count": null,
      "outputs": []
    },
    {
      "cell_type": "code",
      "metadata": {
        "id": "bO32PPjsfmKj"
      },
      "source": [
        "#Elenco dei file disponibili da Gennaio 2018 al 28 Luglio 2020\n",
        "files.iloc[118:-1]"
      ],
      "execution_count": null,
      "outputs": []
    },
    {
      "cell_type": "code",
      "metadata": {
        "id": "A4paHMlwfmKj"
      },
      "source": [
        "#Unione dei file in una unica lista\n",
        "li=[]\n",
        "for row in files.iloc[118:-1].iterrows():\n",
        "    print(row[1][0])\n",
        "    df = pd.read_csv(row[1][0],sep=',',index_col=None, header=0)\n",
        "    li.append(df)\n",
        "    "
      ],
      "execution_count": null,
      "outputs": []
    },
    {
      "cell_type": "code",
      "metadata": {
        "id": "zio5fmswfmKk"
      },
      "source": [
        "#Trasfomazione della lista in un dataframe\n",
        "frame = pd.concat(li, axis=0, ignore_index=True)"
      ],
      "execution_count": null,
      "outputs": []
    },
    {
      "cell_type": "code",
      "metadata": {
        "id": "siLhfqckfmKk"
      },
      "source": [
        "#Creo dizionario journeys da caricare du mongodb\n",
        "journeys=frame.to_dict(orient=\"records\")"
      ],
      "execution_count": null,
      "outputs": []
    },
    {
      "cell_type": "code",
      "metadata": {
        "id": "g8-3t7ltfmKk"
      },
      "source": [
        "#Mi collengo al database distribuito \"bikesharingDB\"\n",
        "client = MongoClient('localhost', 27027)\n",
        "db = client.bikesharingDB"
      ],
      "execution_count": null,
      "outputs": []
    },
    {
      "cell_type": "code",
      "metadata": {
        "scrolled": true,
        "id": "nvD0mmphfmKk"
      },
      "source": [
        "#Caricamento dei dati nella collezione \"shardedCollection\" del database\n",
        "db.shardedCollection.insert_many(journeys)"
      ],
      "execution_count": null,
      "outputs": []
    },
    {
      "cell_type": "code",
      "metadata": {
        "id": "ImrvJojdfmKl"
      },
      "source": [
        ""
      ],
      "execution_count": null,
      "outputs": []
    }
  ]
}